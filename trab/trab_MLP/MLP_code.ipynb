{
 "cells": [
  {
   "cell_type": "markdown",
   "metadata": {},
   "source": [
    "# Data sat 1 \n",
    "\n",
    "## [Forest Fires](https://archive.ics.uci.edu/dataset/162/forest+fires)\n",
    "\n",
    "This is a difficult regression task, where the aim is to predict the burned area of forest fires, in the northeast region of Portugal, by using meteorological and other data (see details at: [http://www.dsi.uminho.pt/~pcortez/forestfires](http://www.dsi.uminho.pt/~pcortez/forestfires))."
   ]
  },
  {
   "cell_type": "markdown",
   "metadata": {},
   "source": [
    "<ol>\n",
    "<li>Create an Env</li>\n",
    "<div>\n",
    "conda create --name mlp-env\n",
    "</div>\n",
    "</ol>"
   ]
  },
  {
   "cell_type": "code",
   "execution_count": null,
   "metadata": {},
   "outputs": [],
   "source": [
    "from mlp import mlp"
   ]
  }
 ],
 "metadata": {
  "kernelspec": {
   "display_name": "mlp-env",
   "language": "python",
   "name": "python3"
  },
  "language_info": {
   "name": "python",
   "version": "-1.-1.-1"
  }
 },
 "nbformat": 4,
 "nbformat_minor": 2
}
